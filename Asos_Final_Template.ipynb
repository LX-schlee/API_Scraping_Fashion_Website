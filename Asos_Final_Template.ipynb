{
 "cells": [
  {
   "cell_type": "markdown",
   "metadata": {},
   "source": [
    "#### Step 1 - Imports"
   ]
  },
  {
   "cell_type": "code",
   "execution_count": 1,
   "metadata": {},
   "outputs": [],
   "source": [
    "import requests\n",
    "import pandas as pd "
   ]
  },
  {
   "cell_type": "markdown",
   "metadata": {},
   "source": [
    "#### Step 2 - Requests & CURL"
   ]
  },
  {
   "cell_type": "code",
   "execution_count": null,
   "metadata": {},
   "outputs": [],
   "source": [
    "# logik: 72 produkte pro seite, offset 0- 72- 144 usw"
   ]
  },
  {
   "cell_type": "code",
   "execution_count": 2,
   "metadata": {},
   "outputs": [],
   "source": [
    "headers = {\n",
    "    'authority': 'www.asos.com',\n",
    "    'sec-ch-ua': '^\\\\^Chromium^\\\\^;v=^\\\\^92^\\\\^, ^\\\\^',\n",
    "    'asos-c-plat': 'web',\n",
    "    'user-agent': 'Mozilla/5.0 (Windows NT 10.0; Win64; x64) AppleWebKit/537.36 (KHTML, like Gecko) Chrome/92.0.4515.131 Safari/537.36',\n",
    "    'asos-c-name': 'asos-web-product-listing-page',\n",
    "    'accept': 'application/json, text/plain, */*',\n",
    "    'sec-ch-ua-mobile': '?0',\n",
    "    'asos-c-ver': '1.1.1-a8be885fdf22-3622',\n",
    "    'asos-cid': '063402f0-502c-4c6b-ab3c-7b66f32fec44',\n",
    "    'sec-fetch-site': 'same-origin',\n",
    "    'sec-fetch-mode': 'cors',\n",
    "    'sec-fetch-dest': 'empty',\n",
    "    'referer': 'https://www.asos.com/men/sale/ctas/sale-edit-6/cat/?cid=28233&nlid=mw^%^7Csale^%^7Cshop^%^20sale^%^20by^%^20product^%^7Cbest^%^20of^%^20sale&page=3',\n",
    "    'accept-language': 'en-US,en;q=0.9,de-DE;q=0.8,de;q=0.7',\n",
    "    'cookie': 'browseCountry=GB; storeCode=COM; browseSizeSchema=UK; browseCurrency=GBP; browseLanguage=en-GB; currency=1; featuresId=e05fca48-253c-405b-bb89-f1c8aa5bd65d; geocountry=DE; bm_sz=736DDC7FE33703F003A5B173E2D2BADF~YAAQ180QAi8D8NB6AQAAPw5iHwz/IHHyx6g/CPFY6zo8nn1alkBZ/jb48Ed6P0dSsCwr4klH2xe6PLJIYm8m95PXXrJvpFkDt8Z01hRrrSQqH4gZHFbDy51zsUYkLCknWo/jH1kqq/9clCyPdYHqauL4O2HS3TjrG1+lTTRkmcf60MP/TmWK6nNGdPmmQJWbl9C4NNc26G+r/sCieStoqaQ0tN2lPGZZHa117wCQokz5zTX4ypbQyvWw+E7eC/WGH8DhlWkDAk1ImtJjXZBvXZbeTDLkBlXo6z4F4xSbXI4u~4600373~4405299; siteChromeVersion=au=11&com=11&de=11&dk=11&es=11&fr=11&it=11&nl=11&pl=11&roe=11&row=11&ru=11&se=11&us=11; keyStoreDataversion=hnm9sjt-28; asos-gdpr22=true; asos-b-sdv629=hnm9sjt-28; asos-perx=c18eeba1b40f4a6397cfdd7fd21fa6f9^|^|3fa9c19a63f345f0bb804ff378ac18dd; AMCVS_C0137F6A52DEAFCC0A490D4C^%^40AdobeOrg=1; AMCV_C0137F6A52DEAFCC0A490D4C^%^40AdobeOrg=-1303530583^%^7CMCMID^%^7C22063688722824849353113986842878306286^%^7CMCAID^%^7CNONE^%^7CMCOPTOUT-1628326326s^%^7CNONE^%^7CvVersion^%^7C3.3.0; _s_fpv=true; s_cc=true; floor=1001; asos=PreferredSite=&currencyid=1&currencylabel=GBP&customerguid=c18eeba1b40f4a6397cfdd7fd21fa6f9&topcatid=1001; stc-welcome-message=resolvedDeliveryCountry=DE&cappedPageCount=2&userTookActionOnWelcomeMessage=true; bm_mi=7AA28A08A5C5A979BC0BB78FC66B5DF9~LhYKUWMwkcdUMfuVrjzv0uzTXyjDP0tPrNKs3QPAi6Jgh/tyu//UhtIx1+HmMjqbXLNwxGIh1CrreB2Ydx0E2DhlAy4QL2JZGBjx+nZfHna2ZakOegzkrOvWNWMtAKw46dSZroxV7Lomu6Zh47zAm4TETZGsJqBKKY0NQKv4oydZwOxgZhtti8y119D8SybFXUPy/3JS6ZYw89fK80LbbUcP8YoWY381ZjBD4buScvNkBWOEAf1TUkqAx/uFJpaC; ak_bmsc=164685393A8BD96FE8D9A681CE92876B~000000000000000000000000000000~YAAQSmZWuIBDMbp6AQAAMft6HwwudwiVGoRoooMS1nSCFAqQ0B+UIou/9A0kc5OmT9Si9eplNxevO3FneYndbeAMfjtZoWboIp3yxpdq/dbAOKDXCwxbQqHzT5IKbD0hesFeJKwX2++f7ol+3boRfpuXROPdy1+oVf5QgFJ/QFNJw2YToFnu/T4OxGpPyw6EzsTEw3YhhA5NNXb3aDQX1MlA3UawMP69+RC0gKlRwj1Nctsn9D+ddCJ9Z006bowagooMhUTtI9WTMHwyghLVknsDB8NJ+q0ascGxu/58cxV/emtTOrKSUBa7THkcSPn1dbS59P9sfFeotkQXlt+NjKJ18iCtxwPXUzmYTUi8eCUElK+DbLK8QizyQdk2ka8XOwY8SXsjGRU3CuRqNP/qAlSt/AfuWQ1NkCe3GZiFGLveMPQDaBU6eot2YuP6HPYolYb3cvGwLXTzKQ==; _abck=600A6A08018CABED002C60BE85538032~0~YAAQSmZWuFTjMbp6AQAA/5Z9HwY1uakt+y87gjLoQxLz2Fkeys8oN1+wnNgzRs9xUwUsG1DApFjxynb04moY7zYX0zsR0I5qBvAHSF07m/OvTTg97NFKXN/Jppr3fZMc7enGydhOZffZB06Sv7CzqnViX79eYm5pWPKk5pms3MGmavJtcbI1iM1sgMLi5BxjAA+r7kLSvB2uafOr+J+5ZbQSsg8SF3Qu1+zF9z+0x7OS86cnEjdDI1RvWA1JgGBczsPNYXV2GkV8eoSucaUW53fr0K2E1RO6VD4eOlt5INgG7y2FSzkxpza/UAY38JCIl1DA4nrQ5Gq+nWzeVkWIEHBOskfg0ndGtVa6nIgQfiZ2/r8zMw1D0IeJHlf41+ct8UuqYkahBp6lhEmfOcDJcbOSVEhVAw==~-1~-1~-1; s_pers=^%^20s_vnum^%^3D1630447200758^%^2526vn^%^253D1^%^7C1630447200758^%^3B^%^20gpv_p6^%^3D^%^2520^%^7C1628322537651^%^3B^%^20s_invisit^%^3Dtrue^%^7C1628323218696^%^3B^%^20s_nr^%^3D1628321418699-Repeat^%^7C1659857418699^%^3B^%^20gpv_e47^%^3Dno^%^2520value^%^7C1628323218701^%^3B^%^20gpv_p10^%^3Ddesktop^%^2520com^%^257Ccategory^%^2520page^%^257C28233^%^2520page^%^25202^%^7C1628323218704^%^3B; plp_columsCount=twoColumns; s_sq=asoscomprod^%^3D^%^2526c.^%^2526a.^%^2526activitymap.^%^2526page^%^253Ddesktop^%^252520com^%^25257Ccategory^%^252520page^%^25257C28233^%^252520page^%^2525202^%^2526link^%^253DLOAD^%^252520MORE^%^2526region^%^253Dplp^%^2526pageIDType^%^253D1^%^2526.activitymap^%^2526.a^%^2526.c',\n",
    "}\n",
    "\n",
    "params = (\n",
    "    ('channel', 'mobile-web'),\n",
    "    ('country', 'GB'),\n",
    "    ('currency', 'GBP'),\n",
    "    ('keyStoreDataversion', 'hnm9sjt-28'),\n",
    "    ('lang', 'en-GB'),\n",
    "    ('limit', '72'),\n",
    "    ('offset', '0'),\n",
    "    ('rowlength', '2'),\n",
    "    ('store', 'COM'),\n",
    ")\n",
    "\n",
    "response = requests.get('https://www.asos.com/api/product/search/v2/categories/28233', headers=headers, params=params)\n",
    "\n",
    "#NB. Original query string below. It seems impossible to parse and\n",
    "#reproduce query strings 100% accurately so the one below is given\n",
    "#in case the reproduced version is not \"correct\".\n",
    "# response = requests.get('https://www.asos.com/api/product/search/v2/categories/28233?channel=mobile-web&country=GB&currency=GBP&keyStoreDataversion=hnm9sjt-28&lang=en-GB&limit=72&offset=144&rowlength=2&store=COM', headers=headers)\n"
   ]
  },
  {
   "cell_type": "code",
   "execution_count": null,
   "metadata": {},
   "outputs": [],
   "source": []
  },
  {
   "cell_type": "markdown",
   "metadata": {},
   "source": [
    "#### Step 3 - Check Status Code"
   ]
  },
  {
   "cell_type": "code",
   "execution_count": 3,
   "metadata": {},
   "outputs": [
    {
     "data": {
      "text/plain": [
       "<Response [200]>"
      ]
     },
     "execution_count": 3,
     "metadata": {},
     "output_type": "execute_result"
    }
   ],
   "source": [
    "response"
   ]
  },
  {
   "cell_type": "markdown",
   "metadata": {},
   "source": [
    "#### Step 4 - Create Json Object"
   ]
  },
  {
   "cell_type": "code",
   "execution_count": 5,
   "metadata": {},
   "outputs": [],
   "source": [
    "# json_object\n",
    "json_object = response.json()"
   ]
  },
  {
   "cell_type": "markdown",
   "metadata": {},
   "source": [
    "#### Step 5 - Output Keys"
   ]
  },
  {
   "cell_type": "code",
   "execution_count": 6,
   "metadata": {},
   "outputs": [
    {
     "data": {
      "text/plain": [
       "dict_keys(['searchTerm', 'categoryName', 'itemCount', 'redirectUrl', 'products', 'facets', 'diagnostics', 'searchPassMeta', 'queryId', 'discoverSearchProductTypes', 'campaigns'])"
      ]
     },
     "execution_count": 6,
     "metadata": {},
     "output_type": "execute_result"
    }
   ],
   "source": [
    "json_object.keys()"
   ]
  },
  {
   "cell_type": "markdown",
   "metadata": {},
   "source": [
    "#### Step 6 - Find your Data"
   ]
  },
  {
   "cell_type": "markdown",
   "metadata": {},
   "source": [
    "- name\n",
    "- brand\n",
    "- current price\n",
    "- previous price"
   ]
  },
  {
   "cell_type": "code",
   "execution_count": 11,
   "metadata": {},
   "outputs": [],
   "source": [
    "# starting point\n",
    "result_items = json_object['products']"
   ]
  },
  {
   "cell_type": "code",
   "execution_count": 13,
   "metadata": {},
   "outputs": [
    {
     "data": {
      "text/plain": [
       "'Vans Opposite colourblock t-shirt in cream'"
      ]
     },
     "execution_count": 13,
     "metadata": {},
     "output_type": "execute_result"
    }
   ],
   "source": [
    "# name\n",
    "result_items[0]['name']"
   ]
  },
  {
   "cell_type": "code",
   "execution_count": 16,
   "metadata": {},
   "outputs": [
    {
     "data": {
      "text/plain": [
       "'Vans'"
      ]
     },
     "execution_count": 16,
     "metadata": {},
     "output_type": "execute_result"
    }
   ],
   "source": [
    "# brand name\n",
    "result_items[0]['brandName']"
   ]
  },
  {
   "cell_type": "code",
   "execution_count": 24,
   "metadata": {},
   "outputs": [
    {
     "data": {
      "text/plain": [
       "'£11.00'"
      ]
     },
     "execution_count": 24,
     "metadata": {},
     "output_type": "execute_result"
    }
   ],
   "source": [
    "# current price\n",
    "result_items[0]['price']['current']['text']"
   ]
  },
  {
   "cell_type": "code",
   "execution_count": 25,
   "metadata": {},
   "outputs": [
    {
     "data": {
      "text/plain": [
       "'£20.00'"
      ]
     },
     "execution_count": 25,
     "metadata": {},
     "output_type": "execute_result"
    }
   ],
   "source": [
    "# previous price\n",
    "result_items[0]['price']['previous']['text']"
   ]
  },
  {
   "cell_type": "markdown",
   "metadata": {},
   "source": [
    "#### Step 7 - Put everything together - Loop through results and append data inside a list"
   ]
  },
  {
   "cell_type": "code",
   "execution_count": 30,
   "metadata": {},
   "outputs": [],
   "source": [
    "name = []\n",
    "brand = []\n",
    "current_price = []\n",
    "previous_price = []\n",
    "\n",
    "for result in result_items:\n",
    "    \n",
    "    # name\n",
    "    name.append(result['name'])\n",
    "    \n",
    "    # brand\n",
    "    brand.append(result['brandName'])\n",
    "    \n",
    "    # current price\n",
    "    current_price.append(result['price']['current']['text'])\n",
    "    \n",
    "    # previous price\n",
    "    previous_price.append(result['price']['previous']['text'])\n",
    "    "
   ]
  },
  {
   "cell_type": "markdown",
   "metadata": {},
   "source": [
    "#### Step 8 - Pandas Dataframe"
   ]
  },
  {
   "cell_type": "code",
   "execution_count": 32,
   "metadata": {},
   "outputs": [
    {
     "data": {
      "text/html": [
       "<div>\n",
       "<style scoped>\n",
       "    .dataframe tbody tr th:only-of-type {\n",
       "        vertical-align: middle;\n",
       "    }\n",
       "\n",
       "    .dataframe tbody tr th {\n",
       "        vertical-align: top;\n",
       "    }\n",
       "\n",
       "    .dataframe thead th {\n",
       "        text-align: right;\n",
       "    }\n",
       "</style>\n",
       "<table border=\"1\" class=\"dataframe\">\n",
       "  <thead>\n",
       "    <tr style=\"text-align: right;\">\n",
       "      <th></th>\n",
       "      <th>Name</th>\n",
       "      <th>Brand</th>\n",
       "      <th>Current Price</th>\n",
       "      <th>Previous Price</th>\n",
       "    </tr>\n",
       "  </thead>\n",
       "  <tbody>\n",
       "    <tr>\n",
       "      <th>0</th>\n",
       "      <td>Vans Opposite colourblock t-shirt in cream</td>\n",
       "      <td>Vans</td>\n",
       "      <td>£11.00</td>\n",
       "      <td>£20.00</td>\n",
       "    </tr>\n",
       "    <tr>\n",
       "      <th>1</th>\n",
       "      <td>Vans Hardwear back print t-shirt in white</td>\n",
       "      <td>Vans</td>\n",
       "      <td>£15.00</td>\n",
       "      <td>£25.00</td>\n",
       "    </tr>\n",
       "    <tr>\n",
       "      <th>2</th>\n",
       "      <td>Vans Market Print back print t-shirt in white</td>\n",
       "      <td>Vans</td>\n",
       "      <td>£18.00</td>\n",
       "      <td>£30.00</td>\n",
       "    </tr>\n",
       "    <tr>\n",
       "      <th>3</th>\n",
       "      <td>Nike Air Jordan GFX fleece in black and red</td>\n",
       "      <td>Jordan</td>\n",
       "      <td>£45.45</td>\n",
       "      <td>£64.95</td>\n",
       "    </tr>\n",
       "    <tr>\n",
       "      <th>4</th>\n",
       "      <td>ASOS DESIGN 2 pack organic jersey polo</td>\n",
       "      <td>ASOS DESIGN</td>\n",
       "      <td>£11.70</td>\n",
       "      <td>£18.00</td>\n",
       "    </tr>\n",
       "    <tr>\n",
       "      <th>...</th>\n",
       "      <td>...</td>\n",
       "      <td>...</td>\n",
       "      <td>...</td>\n",
       "      <td>...</td>\n",
       "    </tr>\n",
       "    <tr>\n",
       "      <th>67</th>\n",
       "      <td>ASOS DESIGN swim shorts in pastel stripe in sh...</td>\n",
       "      <td>ASOS DESIGN</td>\n",
       "      <td>£6.00</td>\n",
       "      <td>£16.00</td>\n",
       "    </tr>\n",
       "    <tr>\n",
       "      <th>68</th>\n",
       "      <td>The North Face Faces hoodie in blue Exclusive ...</td>\n",
       "      <td>The North Face</td>\n",
       "      <td>£49.00</td>\n",
       "      <td>£70.00</td>\n",
       "    </tr>\n",
       "    <tr>\n",
       "      <th>69</th>\n",
       "      <td>ASOS DESIGN slim shorter shorts in pink stripe...</td>\n",
       "      <td>ASOS DESIGN</td>\n",
       "      <td>£13.20</td>\n",
       "      <td>£22.00</td>\n",
       "    </tr>\n",
       "    <tr>\n",
       "      <th>70</th>\n",
       "      <td>ASOS DESIGN co-ord swim shorts in white and na...</td>\n",
       "      <td>ASOS DESIGN</td>\n",
       "      <td>£8.30</td>\n",
       "      <td>£16.00</td>\n",
       "    </tr>\n",
       "    <tr>\n",
       "      <th>71</th>\n",
       "      <td>Le Breve carrot fit ripped jeans in washed black</td>\n",
       "      <td>Le Breve</td>\n",
       "      <td>£6.60</td>\n",
       "      <td>£24.00</td>\n",
       "    </tr>\n",
       "  </tbody>\n",
       "</table>\n",
       "<p>72 rows × 4 columns</p>\n",
       "</div>"
      ],
      "text/plain": [
       "                                                 Name           Brand  \\\n",
       "0          Vans Opposite colourblock t-shirt in cream            Vans   \n",
       "1           Vans Hardwear back print t-shirt in white            Vans   \n",
       "2       Vans Market Print back print t-shirt in white            Vans   \n",
       "3         Nike Air Jordan GFX fleece in black and red          Jordan   \n",
       "4              ASOS DESIGN 2 pack organic jersey polo     ASOS DESIGN   \n",
       "..                                                ...             ...   \n",
       "67  ASOS DESIGN swim shorts in pastel stripe in sh...     ASOS DESIGN   \n",
       "68  The North Face Faces hoodie in blue Exclusive ...  The North Face   \n",
       "69  ASOS DESIGN slim shorter shorts in pink stripe...     ASOS DESIGN   \n",
       "70  ASOS DESIGN co-ord swim shorts in white and na...     ASOS DESIGN   \n",
       "71   Le Breve carrot fit ripped jeans in washed black        Le Breve   \n",
       "\n",
       "   Current Price Previous Price  \n",
       "0         £11.00         £20.00  \n",
       "1         £15.00         £25.00  \n",
       "2         £18.00         £30.00  \n",
       "3         £45.45         £64.95  \n",
       "4         £11.70         £18.00  \n",
       "..           ...            ...  \n",
       "67         £6.00         £16.00  \n",
       "68        £49.00         £70.00  \n",
       "69        £13.20         £22.00  \n",
       "70         £8.30         £16.00  \n",
       "71         £6.60         £24.00  \n",
       "\n",
       "[72 rows x 4 columns]"
      ]
     },
     "execution_count": 32,
     "metadata": {},
     "output_type": "execute_result"
    }
   ],
   "source": [
    "df_asos = pd.DataFrame({'Name': name, 'Brand': brand, 'Current Price': current_price, 'Previous Price':previous_price})\n",
    "df_asos"
   ]
  },
  {
   "cell_type": "code",
   "execution_count": null,
   "metadata": {},
   "outputs": [],
   "source": []
  },
  {
   "cell_type": "markdown",
   "metadata": {},
   "source": [
    "#### Step 10 - Multiple Pages"
   ]
  },
  {
   "cell_type": "code",
   "execution_count": 33,
   "metadata": {},
   "outputs": [],
   "source": [
    "name = []\n",
    "brand = []\n",
    "current_price = []\n",
    "previous_price = []\n",
    "\n",
    "for i in range(0,1440,72):\n",
    "\n",
    "    headers = {\n",
    "        'authority': 'www.asos.com',\n",
    "        'sec-ch-ua': '^\\\\^Chromium^\\\\^;v=^\\\\^92^\\\\^, ^\\\\^',\n",
    "        'asos-c-plat': 'web',\n",
    "        'user-agent': 'Mozilla/5.0 (Windows NT 10.0; Win64; x64) AppleWebKit/537.36 (KHTML, like Gecko) Chrome/92.0.4515.131 Safari/537.36',\n",
    "        'asos-c-name': 'asos-web-product-listing-page',\n",
    "        'accept': 'application/json, text/plain, */*',\n",
    "        'sec-ch-ua-mobile': '?0',\n",
    "        'asos-c-ver': '1.1.1-a8be885fdf22-3622',\n",
    "        'asos-cid': '063402f0-502c-4c6b-ab3c-7b66f32fec44',\n",
    "        'sec-fetch-site': 'same-origin',\n",
    "        'sec-fetch-mode': 'cors',\n",
    "        'sec-fetch-dest': 'empty',\n",
    "        'referer': 'https://www.asos.com/men/sale/ctas/sale-edit-6/cat/?cid=28233&nlid=mw^%^7Csale^%^7Cshop^%^20sale^%^20by^%^20product^%^7Cbest^%^20of^%^20sale&page=3',\n",
    "        'accept-language': 'en-US,en;q=0.9,de-DE;q=0.8,de;q=0.7',\n",
    "        'cookie': 'browseCountry=GB; storeCode=COM; browseSizeSchema=UK; browseCurrency=GBP; browseLanguage=en-GB; currency=1; featuresId=e05fca48-253c-405b-bb89-f1c8aa5bd65d; geocountry=DE; bm_sz=736DDC7FE33703F003A5B173E2D2BADF~YAAQ180QAi8D8NB6AQAAPw5iHwz/IHHyx6g/CPFY6zo8nn1alkBZ/jb48Ed6P0dSsCwr4klH2xe6PLJIYm8m95PXXrJvpFkDt8Z01hRrrSQqH4gZHFbDy51zsUYkLCknWo/jH1kqq/9clCyPdYHqauL4O2HS3TjrG1+lTTRkmcf60MP/TmWK6nNGdPmmQJWbl9C4NNc26G+r/sCieStoqaQ0tN2lPGZZHa117wCQokz5zTX4ypbQyvWw+E7eC/WGH8DhlWkDAk1ImtJjXZBvXZbeTDLkBlXo6z4F4xSbXI4u~4600373~4405299; siteChromeVersion=au=11&com=11&de=11&dk=11&es=11&fr=11&it=11&nl=11&pl=11&roe=11&row=11&ru=11&se=11&us=11; keyStoreDataversion=hnm9sjt-28; asos-gdpr22=true; asos-b-sdv629=hnm9sjt-28; asos-perx=c18eeba1b40f4a6397cfdd7fd21fa6f9^|^|3fa9c19a63f345f0bb804ff378ac18dd; AMCVS_C0137F6A52DEAFCC0A490D4C^%^40AdobeOrg=1; AMCV_C0137F6A52DEAFCC0A490D4C^%^40AdobeOrg=-1303530583^%^7CMCMID^%^7C22063688722824849353113986842878306286^%^7CMCAID^%^7CNONE^%^7CMCOPTOUT-1628326326s^%^7CNONE^%^7CvVersion^%^7C3.3.0; _s_fpv=true; s_cc=true; floor=1001; asos=PreferredSite=&currencyid=1&currencylabel=GBP&customerguid=c18eeba1b40f4a6397cfdd7fd21fa6f9&topcatid=1001; stc-welcome-message=resolvedDeliveryCountry=DE&cappedPageCount=2&userTookActionOnWelcomeMessage=true; bm_mi=7AA28A08A5C5A979BC0BB78FC66B5DF9~LhYKUWMwkcdUMfuVrjzv0uzTXyjDP0tPrNKs3QPAi6Jgh/tyu//UhtIx1+HmMjqbXLNwxGIh1CrreB2Ydx0E2DhlAy4QL2JZGBjx+nZfHna2ZakOegzkrOvWNWMtAKw46dSZroxV7Lomu6Zh47zAm4TETZGsJqBKKY0NQKv4oydZwOxgZhtti8y119D8SybFXUPy/3JS6ZYw89fK80LbbUcP8YoWY381ZjBD4buScvNkBWOEAf1TUkqAx/uFJpaC; ak_bmsc=164685393A8BD96FE8D9A681CE92876B~000000000000000000000000000000~YAAQSmZWuIBDMbp6AQAAMft6HwwudwiVGoRoooMS1nSCFAqQ0B+UIou/9A0kc5OmT9Si9eplNxevO3FneYndbeAMfjtZoWboIp3yxpdq/dbAOKDXCwxbQqHzT5IKbD0hesFeJKwX2++f7ol+3boRfpuXROPdy1+oVf5QgFJ/QFNJw2YToFnu/T4OxGpPyw6EzsTEw3YhhA5NNXb3aDQX1MlA3UawMP69+RC0gKlRwj1Nctsn9D+ddCJ9Z006bowagooMhUTtI9WTMHwyghLVknsDB8NJ+q0ascGxu/58cxV/emtTOrKSUBa7THkcSPn1dbS59P9sfFeotkQXlt+NjKJ18iCtxwPXUzmYTUi8eCUElK+DbLK8QizyQdk2ka8XOwY8SXsjGRU3CuRqNP/qAlSt/AfuWQ1NkCe3GZiFGLveMPQDaBU6eot2YuP6HPYolYb3cvGwLXTzKQ==; _abck=600A6A08018CABED002C60BE85538032~0~YAAQSmZWuFTjMbp6AQAA/5Z9HwY1uakt+y87gjLoQxLz2Fkeys8oN1+wnNgzRs9xUwUsG1DApFjxynb04moY7zYX0zsR0I5qBvAHSF07m/OvTTg97NFKXN/Jppr3fZMc7enGydhOZffZB06Sv7CzqnViX79eYm5pWPKk5pms3MGmavJtcbI1iM1sgMLi5BxjAA+r7kLSvB2uafOr+J+5ZbQSsg8SF3Qu1+zF9z+0x7OS86cnEjdDI1RvWA1JgGBczsPNYXV2GkV8eoSucaUW53fr0K2E1RO6VD4eOlt5INgG7y2FSzkxpza/UAY38JCIl1DA4nrQ5Gq+nWzeVkWIEHBOskfg0ndGtVa6nIgQfiZ2/r8zMw1D0IeJHlf41+ct8UuqYkahBp6lhEmfOcDJcbOSVEhVAw==~-1~-1~-1; s_pers=^%^20s_vnum^%^3D1630447200758^%^2526vn^%^253D1^%^7C1630447200758^%^3B^%^20gpv_p6^%^3D^%^2520^%^7C1628322537651^%^3B^%^20s_invisit^%^3Dtrue^%^7C1628323218696^%^3B^%^20s_nr^%^3D1628321418699-Repeat^%^7C1659857418699^%^3B^%^20gpv_e47^%^3Dno^%^2520value^%^7C1628323218701^%^3B^%^20gpv_p10^%^3Ddesktop^%^2520com^%^257Ccategory^%^2520page^%^257C28233^%^2520page^%^25202^%^7C1628323218704^%^3B; plp_columsCount=twoColumns; s_sq=asoscomprod^%^3D^%^2526c.^%^2526a.^%^2526activitymap.^%^2526page^%^253Ddesktop^%^252520com^%^25257Ccategory^%^252520page^%^25257C28233^%^252520page^%^2525202^%^2526link^%^253DLOAD^%^252520MORE^%^2526region^%^253Dplp^%^2526pageIDType^%^253D1^%^2526.activitymap^%^2526.a^%^2526.c',\n",
    "    }\n",
    "\n",
    "    params = (\n",
    "        ('channel', 'mobile-web'),\n",
    "        ('country', 'GB'),\n",
    "        ('currency', 'GBP'),\n",
    "        ('keyStoreDataversion', 'hnm9sjt-28'),\n",
    "        ('lang', 'en-GB'),\n",
    "        ('limit', '72'),\n",
    "        ('offset', str(i)),\n",
    "        ('rowlength', '2'),\n",
    "        ('store', 'COM'),\n",
    "    )\n",
    "\n",
    "    response = requests.get('https://www.asos.com/api/product/search/v2/categories/28233', headers=headers, params=params)\n",
    "\n",
    "    # json_object\n",
    "    json_object = response.json()\n",
    "\n",
    "    # starting point\n",
    "    result_items = json_object['products']\n",
    "    \n",
    "    for result in result_items:\n",
    "    \n",
    "        # name\n",
    "        name.append(result['name'])\n",
    "\n",
    "        # brand\n",
    "        brand.append(result['brandName'])\n",
    "\n",
    "        # current price\n",
    "        current_price.append(result['price']['current']['text'])\n",
    "\n",
    "        # previous price\n",
    "        previous_price.append(result['price']['previous']['text'])\n",
    "\n",
    "    "
   ]
  },
  {
   "cell_type": "code",
   "execution_count": 34,
   "metadata": {},
   "outputs": [
    {
     "data": {
      "text/html": [
       "<div>\n",
       "<style scoped>\n",
       "    .dataframe tbody tr th:only-of-type {\n",
       "        vertical-align: middle;\n",
       "    }\n",
       "\n",
       "    .dataframe tbody tr th {\n",
       "        vertical-align: top;\n",
       "    }\n",
       "\n",
       "    .dataframe thead th {\n",
       "        text-align: right;\n",
       "    }\n",
       "</style>\n",
       "<table border=\"1\" class=\"dataframe\">\n",
       "  <thead>\n",
       "    <tr style=\"text-align: right;\">\n",
       "      <th></th>\n",
       "      <th>Name</th>\n",
       "      <th>Brand</th>\n",
       "      <th>Current Price</th>\n",
       "      <th>Previous Price</th>\n",
       "    </tr>\n",
       "  </thead>\n",
       "  <tbody>\n",
       "    <tr>\n",
       "      <th>0</th>\n",
       "      <td>Vans Opposite colourblock t-shirt in cream</td>\n",
       "      <td>Vans</td>\n",
       "      <td>£11.00</td>\n",
       "      <td>£20.00</td>\n",
       "    </tr>\n",
       "    <tr>\n",
       "      <th>1</th>\n",
       "      <td>Vans Hardwear back print t-shirt in white</td>\n",
       "      <td>Vans</td>\n",
       "      <td>£15.00</td>\n",
       "      <td>£25.00</td>\n",
       "    </tr>\n",
       "    <tr>\n",
       "      <th>2</th>\n",
       "      <td>Vans Market Print back print t-shirt in white</td>\n",
       "      <td>Vans</td>\n",
       "      <td>£18.00</td>\n",
       "      <td>£30.00</td>\n",
       "    </tr>\n",
       "    <tr>\n",
       "      <th>3</th>\n",
       "      <td>Nike Air Jordan GFX fleece in black and red</td>\n",
       "      <td>Jordan</td>\n",
       "      <td>£45.45</td>\n",
       "      <td>£64.95</td>\n",
       "    </tr>\n",
       "    <tr>\n",
       "      <th>4</th>\n",
       "      <td>ASOS DESIGN 2 pack organic jersey polo</td>\n",
       "      <td>ASOS DESIGN</td>\n",
       "      <td>£11.70</td>\n",
       "      <td>£18.00</td>\n",
       "    </tr>\n",
       "    <tr>\n",
       "      <th>...</th>\n",
       "      <td>...</td>\n",
       "      <td>...</td>\n",
       "      <td>...</td>\n",
       "      <td>...</td>\n",
       "    </tr>\n",
       "    <tr>\n",
       "      <th>1435</th>\n",
       "      <td>The Couture Club flock signature hoodie in off...</td>\n",
       "      <td>The Couture Club</td>\n",
       "      <td>£42.00</td>\n",
       "      <td>£60.00</td>\n",
       "    </tr>\n",
       "    <tr>\n",
       "      <th>1436</th>\n",
       "      <td>Obey nouvelle sweatshirt in orange</td>\n",
       "      <td>Obey</td>\n",
       "      <td>£45.00</td>\n",
       "      <td>£75.00</td>\n",
       "    </tr>\n",
       "    <tr>\n",
       "      <th>1437</th>\n",
       "      <td>Afends get better t-shirt in pink</td>\n",
       "      <td>Afends</td>\n",
       "      <td>£22.50</td>\n",
       "      <td>£50.00</td>\n",
       "    </tr>\n",
       "    <tr>\n",
       "      <th>1438</th>\n",
       "      <td>Smith &amp; Canova leather cross body card holder</td>\n",
       "      <td>Smith And Canova</td>\n",
       "      <td>£7.55</td>\n",
       "      <td>£18.00</td>\n",
       "    </tr>\n",
       "    <tr>\n",
       "      <th>1439</th>\n",
       "      <td>Mitchell &amp; Ness NCAA Duke University sweatshir...</td>\n",
       "      <td>Mitchell &amp; Ness</td>\n",
       "      <td>£36.00</td>\n",
       "      <td>£60.00</td>\n",
       "    </tr>\n",
       "  </tbody>\n",
       "</table>\n",
       "<p>1440 rows × 4 columns</p>\n",
       "</div>"
      ],
      "text/plain": [
       "                                                   Name             Brand  \\\n",
       "0            Vans Opposite colourblock t-shirt in cream              Vans   \n",
       "1             Vans Hardwear back print t-shirt in white              Vans   \n",
       "2         Vans Market Print back print t-shirt in white              Vans   \n",
       "3           Nike Air Jordan GFX fleece in black and red            Jordan   \n",
       "4                ASOS DESIGN 2 pack organic jersey polo       ASOS DESIGN   \n",
       "...                                                 ...               ...   \n",
       "1435  The Couture Club flock signature hoodie in off...  The Couture Club   \n",
       "1436                 Obey nouvelle sweatshirt in orange              Obey   \n",
       "1437                  Afends get better t-shirt in pink            Afends   \n",
       "1438      Smith & Canova leather cross body card holder  Smith And Canova   \n",
       "1439  Mitchell & Ness NCAA Duke University sweatshir...   Mitchell & Ness   \n",
       "\n",
       "     Current Price Previous Price  \n",
       "0           £11.00         £20.00  \n",
       "1           £15.00         £25.00  \n",
       "2           £18.00         £30.00  \n",
       "3           £45.45         £64.95  \n",
       "4           £11.70         £18.00  \n",
       "...            ...            ...  \n",
       "1435        £42.00         £60.00  \n",
       "1436        £45.00         £75.00  \n",
       "1437        £22.50         £50.00  \n",
       "1438         £7.55         £18.00  \n",
       "1439        £36.00         £60.00  \n",
       "\n",
       "[1440 rows x 4 columns]"
      ]
     },
     "execution_count": 34,
     "metadata": {},
     "output_type": "execute_result"
    }
   ],
   "source": [
    "df_asos = pd.DataFrame({'Name': name, 'Brand': brand, 'Current Price': current_price, 'Previous Price':previous_price})\n",
    "df_asos"
   ]
  },
  {
   "cell_type": "markdown",
   "metadata": {},
   "source": [
    "#### Step 9 - Store results in Excel"
   ]
  },
  {
   "cell_type": "code",
   "execution_count": 35,
   "metadata": {},
   "outputs": [],
   "source": [
    "df_asos.to_excel('asos.xlsx', index=False)"
   ]
  }
 ],
 "metadata": {
  "kernelspec": {
   "display_name": "Python 3",
   "language": "python",
   "name": "python3"
  },
  "language_info": {
   "codemirror_mode": {
    "name": "ipython",
    "version": 3
   },
   "file_extension": ".py",
   "mimetype": "text/x-python",
   "name": "python",
   "nbconvert_exporter": "python",
   "pygments_lexer": "ipython3",
   "version": "3.9.2"
  }
 },
 "nbformat": 4,
 "nbformat_minor": 4
}
